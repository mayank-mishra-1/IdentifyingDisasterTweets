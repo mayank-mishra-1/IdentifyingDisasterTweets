{
 "cells": [
  {
   "cell_type": "code",
   "execution_count": 128,
   "id": "772ae03c-e00d-493f-98f4-ca00594d8a82",
   "metadata": {},
   "outputs": [],
   "source": [
    "import numpy as np\n",
    "import pandas as pd\n",
    "import matplotlib.pylab as plt"
   ]
  },
  {
   "cell_type": "code",
   "execution_count": 129,
   "id": "f0d7805e-855f-4149-913a-85e0d4165296",
   "metadata": {},
   "outputs": [],
   "source": [
    "def read_txt(filepath):\n",
    "    df = pd.read_csv(filepath, sep=\" \", header=None)\n",
    "    df[0] = df[0].apply(lambda x: x[1:-1])\n",
    "    df[0] = df[0].apply(lambda x: x.replace(\"\\'\",\"\"))\n",
    "    df[1] = df[1].apply(lambda x: int(x[0:-1]))\n",
    "    print(df.head(5))\n",
    "    return df"
   ]
  },
  {
   "cell_type": "code",
   "execution_count": 130,
   "id": "48dd2a21-a0fe-4b59-882f-3ab4f18f66ef",
   "metadata": {},
   "outputs": [],
   "source": [
    "class Classifier:\n",
    "\n",
    "    def __init__(self, arr_ign, thresh=.001):\n",
    "        \"\"\"\n",
    "        Initialize classifier\n",
    "        \"\"\"\n",
    "        self.threshold = thresh\n",
    "        self.dis_words = {}\n",
    "        self.non_words = {}\n",
    "        self.ign_words = arr_ign\n",
    "        self._y = None\n",
    "        self.label_to_index = None\n",
    "        self.index_to_label = None\n",
    "\n",
    "    def tokenizeString(self, tweet):\n",
    "        wordsInTweet = []\n",
    "        currWord = \"\"\n",
    "        for i in tweet:\n",
    "            if(i == ' ' or i == '.' or i == '?' or i == '!'):\n",
    "                wordsInTweet.append(currWord)\n",
    "                currWord = \"\"\n",
    "            else:\n",
    "                currWord += i\n",
    "        return wordsInTweet\n",
    "        \n",
    "    def fit(self, X, y):\n",
    "        \"\"\"\n",
    "        Fit the model using the provided data\n",
    "        :param X: 2-D np.array of shape (number training samples,)\n",
    "        :param y: 1-D np.array of shape (number training samples,)\n",
    "        :return: self\n",
    "        \"\"\"\n",
    "        for i in range(len(X)):\n",
    "            words = self.tokenizeString(X[i])\n",
    "            for j in words:\n",
    "                if j not in self.ign_words:\n",
    "                    if y[i]:\n",
    "                        if j in self.dis_words:\n",
    "                            self.dis_words[j] += 1\n",
    "                        else:\n",
    "                            self.dis_words[j] = 1\n",
    "                    else:\n",
    "                        if j in self.non_words:\n",
    "                            self.non_words[j] += 1\n",
    "                        else:\n",
    "                            self.non_words[j] = 1\n",
    "        \n",
    "        del_keys = []\n",
    "        for k,v in self.dis_words.items():\n",
    "            if k in self.non_words:\n",
    "                del_keys.append(k)\n",
    "        for k in del_keys:\n",
    "            self.dis_words.pop(k)\n",
    "            self.non_words.pop(k)\n",
    "        \n",
    "        min_val = self.threshold*len(X)\n",
    "        \n",
    "        del_keys = []\n",
    "        for k,v in self.dis_words.items():\n",
    "            if v < min_val:\n",
    "                del_keys.append(k)\n",
    "        for k in del_keys:\n",
    "            self.dis_words.pop(k)\n",
    "        \n",
    "        del_keys = []\n",
    "        for k,v in self.non_words.items():\n",
    "            if v < min_val:\n",
    "                del_keys.append(k)\n",
    "        for k in del_keys:\n",
    "            self.non_words.pop(k)\n",
    "        \n",
    "        self._y = y\n",
    "\n",
    "        return self\n",
    "    \n",
    "\n",
    "    def predict(self, X):\n",
    "        \"\"\"\n",
    "        Given new data points, classify them according to the training data provided in fit and number of neighbors k\n",
    "        You should use BallTree to get the distances and indices of the nearest k neighbors\n",
    "        :param X: feature vectors (num_points, num_features)\n",
    "        :return: 1-D np.array of predicted classes of shape (num_points,)\n",
    "        \"\"\"\n",
    "        ls_exp = []\n",
    "        for i in range(len(X)):\n",
    "            words = self.tokenizeString(X[i])\n",
    "            exp = 0\n",
    "            for k,v in self.dis_words.items():\n",
    "                if k in words:\n",
    "                    exp += 1\n",
    "            for k,v in self.non_words.items():\n",
    "                if k in words:\n",
    "                    exp -= 1\n",
    "            ls_exp.append(exp)\n",
    "        \n",
    "        ls_prob = []\n",
    "        ls_pred = []\n",
    "        for i in range(len(ls_exp)):\n",
    "            prob = 1 / (1 + (np.exp(-1*ls_exp[i])))\n",
    "            ls_prob.append(prob)\n",
    "            if prob > .5:\n",
    "                ls_pred.append(1)\n",
    "            else:\n",
    "                ls_pred.append(0)\n",
    "#         print(ls_prob)\n",
    "#         print(ls_pred)\n",
    "        \n",
    "        return np.array(ls_pred)\n",
    "\n",
    "    def accuracy(self, pred, y):\n",
    "        \"\"\"\n",
    "        Return the accuracy of the classifier on the data (X_test, y_test)\n",
    "        :param X: np.array of shape (m, number_features)\n",
    "        :param y: np.array of shape (m,)\n",
    "        :return: accuracy score [float in (0,1)]\n",
    "        \"\"\"\n",
    "        score = (len(pred) - np.sum(np.absolute(pred-y)))/len(pred)\n",
    "        return score"
   ]
  },
  {
   "cell_type": "code",
   "execution_count": 137,
   "id": "55f24ad3-b2ae-43de-9937-b54fc35ab8ba",
   "metadata": {},
   "outputs": [],
   "source": [
    "def create_sets(X, y, test_size=1200):\n",
    "    test_ind = np.random.choice(range(len(X)), test_size, replace=False)\n",
    "    X_train = []\n",
    "    y_train = []\n",
    "    X_test = []\n",
    "    y_test = []\n",
    "    for i in range(len(X)):\n",
    "        if i in test_ind:\n",
    "            X_test.append(X[i])\n",
    "            y_test.append(y[i])\n",
    "        else:\n",
    "            X_train.append(X[i])\n",
    "            y_train.append(y[i])\n",
    "            \n",
    "    X_train = np.array(X_train)\n",
    "    y_train = np.array(y_train)\n",
    "    X_test = np.array(X_test)\n",
    "    y_test = np.array(y_test)\n",
    "    \n",
    "    return X_train, y_train, X_test, y_test\n",
    "            "
   ]
  },
  {
   "cell_type": "code",
   "execution_count": 138,
   "id": "274b9e6e-3739-4fc5-b7bf-f863b80997b8",
   "metadata": {},
   "outputs": [],
   "source": [
    "df = pd.read_csv('./data/train.csv')\n",
    "X = np.array(df['text'])\n",
    "y = np.array(df['target'])\n",
    "df_ign = pd.read_csv(\"./data/ignoreWords.txt\", sep=\" \", header=None)\n",
    "arr_ign = np.array(df_ign[0])"
   ]
  },
  {
   "cell_type": "code",
   "execution_count": 139,
   "id": "1c824e8a-7db1-453d-8f5d-dde6623f924c",
   "metadata": {},
   "outputs": [],
   "source": [
    "X_train, y_train, X_test, y_test = create_sets(X, y)"
   ]
  },
  {
   "cell_type": "code",
   "execution_count": 145,
   "id": "4e0a6b64-40dc-4840-804a-531848ceabcb",
   "metadata": {},
   "outputs": [
    {
     "data": {
      "text/plain": [
       "0.9758303446125058"
      ]
     },
     "execution_count": 145,
     "metadata": {},
     "output_type": "execute_result"
    }
   ],
   "source": [
    "model = Classifier(arr_ign, thresh=.0001)\n",
    "fitted_model = model.fit(X_train,y_train)\n",
    "pred = fitted_model.predict(X_train)\n",
    "fitted_model.accuracy(pred, y_train)"
   ]
  },
  {
   "cell_type": "code",
   "execution_count": 149,
   "id": "195fac45-37d2-45d8-b30e-e59020b635b8",
   "metadata": {},
   "outputs": [],
   "source": [
    "model = Classifier(arr_ign, thresh=.0001)\n",
    "fitted_model = model.fit(X_train,y_train)"
   ]
  },
  {
   "cell_type": "code",
   "execution_count": 150,
   "id": "68cc2b24-a3f6-43df-9335-218630bf76ba",
   "metadata": {},
   "outputs": [
    {
     "name": "stdout",
     "output_type": "stream",
     "text": [
      "1.0\n",
      "0.1\n",
      "0.01\n",
      "0.001\n",
      "0.0001\n"
     ]
    }
   ],
   "source": [
    "train = []\n",
    "test = []\n",
    "for i in range(5):\n",
    "    thresh = 1/(10**i)\n",
    "    print(thresh)\n",
    "    model = Classifier(arr_ign, thresh=thresh)\n",
    "    fitted_model = model.fit(X_train,y_train)\n",
    "    pred = fitted_model.predict(X_train)\n",
    "    acc_train = fitted_model.accuracy(pred, y_train)\n",
    "    \n",
    "    pred_test = fitted_model.predict(X_test)\n",
    "    acc_test = fitted_model.accuracy(pred_test, y_test)\n",
    "    \n",
    "    train.append(acc_train)\n",
    "    test.append(acc_test)\n",
    "    "
   ]
  },
  {
   "cell_type": "code",
   "execution_count": 151,
   "id": "fd865d29-581b-4e63-afaa-30150208eafd",
   "metadata": {},
   "outputs": [
    {
     "name": "stdout",
     "output_type": "stream",
     "text": [
      "[0.5722750662716357, 0.5722750662716357, 0.5722750662716357, 0.7146421331670045, 0.9758303446125058]\n",
      "[0.56, 0.56, 0.56, 0.6833333333333333, 0.7425]\n"
     ]
    }
   ],
   "source": [
    "print(train)\n",
    "print(test)"
   ]
  },
  {
   "cell_type": "code",
   "execution_count": 152,
   "id": "df248257-411d-4e8a-9d4e-95e302d6a7ff",
   "metadata": {},
   "outputs": [
    {
     "data": {
      "text/plain": [
       "[<matplotlib.lines.Line2D at 0x7fdd19967d60>]"
      ]
     },
     "execution_count": 152,
     "metadata": {},
     "output_type": "execute_result"
    },
    {
     "data": {
      "image/png": "[encoded data removed]",
      "text/plain": [
       "<Figure size 432x288 with 1 Axes>"
      ]
     },
     "metadata": {
      "needs_background": "light"
     },
     "output_type": "display_data"
    }
   ],
   "source": [
    "plt.plot(train)\n",
    "plt.plot(test)"
   ]
  },
  {
   "cell_type": "code",
   "execution_count": null,
   "id": "9fd24a2b-dbbd-4ba5-83e6-f26c8d2cd696",
   "metadata": {},
   "outputs": [],
   "source": []
  }
 ],
 "metadata": {
  "kernelspec": {
   "display_name": "Python 3 (ipykernel)",
   "language": "python",
   "name": "python3"
  },
  "language_info": {
   "codemirror_mode": {
    "name": "ipython",
    "version": 3
   },
   "file_extension": ".py",
   "mimetype": "text/x-python",
   "name": "python",
   "nbconvert_exporter": "python",
   "pygments_lexer": "ipython3",
   "version": "3.9.6"
  }
 },
 "nbformat": 4,
 "nbformat_minor": 5
}
