{
 "cells": [
  {
   "cell_type": "code",
   "execution_count": 4,
   "id": "e2a3c198",
   "metadata": {},
   "outputs": [
    {
     "name": "stdout",
     "output_type": "stream",
     "text": [
      "Imports complete!!!\n"
     ]
    },
    {
     "name": "stderr",
     "output_type": "stream",
     "text": [
      "[nltk_data] Error loading punkt: <urlopen error [Errno 8] nodename nor\n",
      "[nltk_data]     servname provided, or not known>\n",
      "[nltk_data] Error loading stopwords: <urlopen error [Errno 8] nodename\n",
      "[nltk_data]     nor servname provided, or not known>\n"
     ]
    }
   ],
   "source": [
    "import pandas as pd\n",
    "import matplotlib.pyplot as plt\n",
    "import seaborn as sns\n",
    "import numpy as np\n",
    "\n",
    "import nltk\n",
    "from nltk.tokenize import word_tokenize\n",
    "from nltk.corpus import stopwords\n",
    "from nltk.util import ngrams\n",
    "\n",
    "from sklearn.feature_extraction.text import CountVectorizer\n",
    "from collections import defaultdict\n",
    "from collections import  Counter\n",
    "\n",
    "nltk.download('punkt')\n",
    "nltk.download('stopwords')\n",
    "stop=set(stopwords.words('english'))\n",
    "\n",
    "import re\n",
    "import gensim\n",
    "import string\n",
    "from keras.preprocessing.text import Tokenizer\n",
    "from keras.preprocessing.sequence import pad_sequences\n",
    "from tqdm import tqdm\n",
    "from keras.models import Sequential\n",
    "from keras.layers import Embedding,LSTM,Dense,SpatialDropout1D\n",
    "from keras.initializers import Constant\n",
    "from sklearn.model_selection import train_test_split\n",
    "from keras.optimizers import adam_v2\n",
    "\n",
    "import os\n",
    "\n",
    "print(\"Imports complete!!!\")"
   ]
  },
  {
   "cell_type": "markdown",
   "id": "6403e2d9",
   "metadata": {},
   "source": [
    "## Part 1: Understanding the Dataset"
   ]
  },
  {
   "cell_type": "code",
   "execution_count": 5,
   "id": "1c99c012",
   "metadata": {},
   "outputs": [
    {
     "name": "stdout",
     "output_type": "stream",
     "text": [
      "   id keyword location                                               text  \\\n",
      "0   1     NaN      NaN  Our Deeds are the Reason of this #earthquake M...   \n",
      "1   4     NaN      NaN             Forest fire near La Ronge Sask. Canada   \n",
      "2   5     NaN      NaN  All residents asked to 'shelter in place' are ...   \n",
      "\n",
      "   target  \n",
      "0       1  \n",
      "1       1  \n",
      "2       1  \n"
     ]
    }
   ],
   "source": [
    "tweets = pd.read_csv('Data/train.csv')\n",
    "test = pd.read_csv('Data/test.csv')\n",
    "\n",
    "print(tweets.head(3))"
   ]
  },
  {
   "cell_type": "code",
   "execution_count": 6,
   "id": "08efa09d",
   "metadata": {},
   "outputs": [
    {
     "name": "stderr",
     "output_type": "stream",
     "text": [
      "/Users/lucasderr/opt/anaconda3/lib/python3.9/site-packages/seaborn/_decorators.py:36: FutureWarning: Pass the following variables as keyword args: x, y. From version 0.12, the only valid positional argument will be `data`, and passing other arguments without an explicit keyword will result in an error or misinterpretation.\n",
      "  warnings.warn(\n"
     ]
    },
    {
     "data": {
      "text/plain": [
       "[Text(0.5, 1.0, 'Number of Instances of Each Class')]"
      ]
     },
     "execution_count": 6,
     "metadata": {},
     "output_type": "execute_result"
    },
    {
     "data": {
      "image/png": "[encoded data removed]",
      "text/plain": [
       "<Figure size 432x288 with 1 Axes>"
      ]
     },
     "metadata": {
      "needs_background": "light"
     },
     "output_type": "display_data"
    }
   ],
   "source": [
    "x = tweets.target.value_counts()\n",
    "sns.barplot(x.index, x,).set(title=\"Number of Instances of Each Class\")\n"
   ]
  },
  {
   "cell_type": "markdown",
   "id": "a383a04d",
   "metadata": {},
   "source": [
    "## Part 2: Using Meta Features to Create a Baseline Classifier"
   ]
  },
  {
   "cell_type": "code",
   "execution_count": 7,
   "id": "4164d16d",
   "metadata": {},
   "outputs": [
    {
     "data": {
      "image/png": "[encoded data removed]",
      "text/plain": [
       "<Figure size 720x360 with 2 Axes>"
      ]
     },
     "metadata": {
      "needs_background": "light"
     },
     "output_type": "display_data"
    },
    {
     "name": "stdout",
     "output_type": "stream",
     "text": [
      "Disaster Tweets: \n",
      "Mean: 108.11342097217977\n",
      "Standard Deviation: 29.30985431358517\n",
      "Non-Disaster Tweets: \n",
      "Mean: 95.70681713496084\n",
      "Standard Deviation: 35.88592390140908\n"
     ]
    }
   ],
   "source": [
    "fig, (ax1, ax2) = plt.subplots(1,2, figsize=(10,5))\n",
    "disaster_len = tweets[tweets['target']==1]['text'].str.len()\n",
    "disaster_mean, disaster_std = disaster_len.mean(), disaster_len.std()\n",
    "ax1.hist(disaster_len,color='blue')\n",
    "ax1.set_title('Disaster Tweet Length')\n",
    "nondisaster_len = tweets[tweets['target']==0]['text'].str.len()\n",
    "nondisaster_mean, nondisaster_std = nondisaster_len.mean(), nondisaster_len.std()\n",
    "ax2.hist(nondisaster_len, color='red')\n",
    "ax2.set_title('Non-Disaster Tweet Length')\n",
    "plt.show()\n",
    "\n",
    "print(\"Disaster Tweets: \")\n",
    "print(\"Mean: \" + str(disaster_mean))\n",
    "print(\"Standard Deviation: \" + str(disaster_std))\n",
    "\n",
    "print(\"Non-Disaster Tweets: \")\n",
    "print(\"Mean: \" + str(nondisaster_mean))\n",
    "print(\"Standard Deviation: \" + str(nondisaster_std))"
   ]
  },
  {
   "cell_type": "markdown",
   "id": "3a000479",
   "metadata": {},
   "source": [
    "Disaster Tweets tend to be slightly longer than non-disaster tweets. This could be because disaster tweets are coming from professional sources and using more professional language than generic tweets."
   ]
  },
  {
   "cell_type": "code",
   "execution_count": 51,
   "id": "0fde7581",
   "metadata": {},
   "outputs": [
    {
     "data": {
      "image/png": "[encoded data removed]",
      "text/plain": [
       "<Figure size 720x360 with 2 Axes>"
      ]
     },
     "metadata": {
      "needs_background": "light"
     },
     "output_type": "display_data"
    },
    {
     "name": "stdout",
     "output_type": "stream",
     "text": [
      "Disaster Tweets: \n",
      "Mean: 15.167532864567411\n",
      "Standard Deviation: 5.096805739204259\n",
      "Non-Disaster Tweets: \n",
      "Mean: 14.704744357438969\n",
      "Standard Deviation: 6.1615635808192595\n"
     ]
    }
   ],
   "source": [
    "fig, (ax1, ax2) = plt.subplots(1,2, figsize=(10,5))\n",
    "\n",
    "\n",
    "disaster_words = tweets[tweets['target']==1]['text'].str.split().map(lambda x: len(x))\n",
    "disaster_mean, disaster_std = disaster_words.mean(), disaster_words.std()\n",
    "ax1.hist(disaster_words,color='blue',bins=20)\n",
    "ax1.set_title('Disaster Tweet Number of Words')\n",
    "\n",
    "\n",
    "nondisaster_words = tweets[tweets['target']==0]['text'].str.split().map(lambda x: len(x))\n",
    "nondisaster_mean, nondisaster_std = nondisaster_words.mean(), nondisaster_words.std()\n",
    "ax2.hist(nondisaster_words, color='red',bins=20)\n",
    "ax2.set_title('Non-Disaster Number of Words')\n",
    "plt.show()\n",
    "\n",
    "print(\"Disaster Tweets: \")\n",
    "print(\"Mean: \" + str(disaster_mean))\n",
    "print(\"Standard Deviation: \" + str(disaster_std))\n",
    "\n",
    "print(\"Non-Disaster Tweets: \")\n",
    "print(\"Mean: \" + str(nondisaster_mean))\n",
    "print(\"Standard Deviation: \" + str(nondisaster_std))"
   ]
  },
  {
   "cell_type": "code",
   "execution_count": 52,
   "id": "365b314b",
   "metadata": {},
   "outputs": [
    {
     "data": {
      "image/png": "[encoded data removed]",
      "text/plain": [
       "<Figure size 720x360 with 2 Axes>"
      ]
     },
     "metadata": {
      "needs_background": "light"
     },
     "output_type": "display_data"
    },
    {
     "name": "stdout",
     "output_type": "stream",
     "text": [
      "Disaster Tweets: \n",
      "Mean: 6.469866063188731\n",
      "Standard Deviation: 1.5169374586061595\n",
      "\n",
      "Non-Disaster Tweets: \n",
      "Mean: 5.8713247795406724\n",
      "Standard Deviation: 1.742149940924163\n"
     ]
    }
   ],
   "source": [
    "fig, (ax1, ax2) = plt.subplots(1,2, figsize=(10,5))\n",
    "\n",
    "disaster_wordlength = tweets[tweets['target']==1]['text'].str.split().apply(lambda x : np.mean([len(i) for i in x]))\n",
    "disaster_wordlengthmean, disaster_wordlengthstd = disaster_wordlength.mean(), disaster_wordlength.std()\n",
    "ax1.hist(disaster_wordlength,color='blue', bins=50)\n",
    "ax1.set_title('Disaster Tweet Average Word Length')\n",
    "\n",
    "nondisaster_wordlength = tweets[tweets['target']==0]['text'].str.split().apply(lambda x : np.mean([len(i) for i in x]))\n",
    "nondisaster_wordlengthmean, nondisaster_wordlengthstd = nondisaster_wordlength.mean(), nondisaster_wordlength.std()\n",
    "\n",
    "ax2.hist(nondisaster_wordlength,color='red', bins=50)\n",
    "ax2.set_title('Non-Disaster Tweet Average Word Length')\n",
    "plt.show()\n",
    "\n",
    "print(\"Disaster Tweets: \")\n",
    "print(\"Mean: \" + str(disaster_wordlengthmean))\n",
    "print(\"Standard Deviation: \" + str(disaster_wordlengthstd))\n",
    "print()\n",
    "print(\"Non-Disaster Tweets: \")\n",
    "print(\"Mean: \" + str(nondisaster_wordlengthmean))\n",
    "print(\"Standard Deviation: \" + str(nondisaster_wordlengthstd))"
   ]
  },
  {
   "cell_type": "code",
   "execution_count": 53,
   "id": "a5c91692",
   "metadata": {},
   "outputs": [
    {
     "data": {
      "image/png": "[encoded data removed]",
      "text/plain": [
       "<Figure size 720x360 with 2 Axes>"
      ]
     },
     "metadata": {
      "needs_background": "light"
     },
     "output_type": "display_data"
    },
    {
     "name": "stdout",
     "output_type": "stream",
     "text": [
      "Disaster Tweets: \n",
      "Mean: 14.664934270865178\n",
      "Standard Deviation: 4.710933601832796\n",
      "\n",
      "Non-Disaster Tweets: \n",
      "Mean: 14.09649930907416\n",
      "Standard Deviation: 5.654747824007804\n"
     ]
    }
   ],
   "source": [
    "# Unique Word Count\n",
    "\n",
    "fig, (ax1, ax2) = plt.subplots(1,2, figsize=(10,5))\n",
    "disaster_unique = tweets[tweets['target']==1]['text'].str.split().map(lambda x: len(set(x)))\n",
    "disaster_mean, disaster_std = disaster_unique.mean(), disaster_unique.std()\n",
    "ax1.hist(disaster_words,color='blue',bins=20)\n",
    "ax1.set_title('Disaster Tweet Unique Words')\n",
    "\n",
    "nondisaster_unique = tweets[tweets['target']==0]['text'].str.split().map(lambda x: len(set(x)))\n",
    "nondisaster_mean, nondisaster_std = nondisaster_unique.mean(), nondisaster_unique.std()\n",
    "ax2.hist(disaster_words,color='red',bins=20)\n",
    "ax2.set_title('Non-Disaster Unique Words')\n",
    "\n",
    "plt.show()\n",
    "print(\"Disaster Tweets: \")\n",
    "print(\"Mean: \" + str(disaster_mean))\n",
    "print(\"Standard Deviation: \" + str(disaster_std))\n",
    "print()\n",
    "print(\"Non-Disaster Tweets: \")\n",
    "print(\"Mean: \" + str(nondisaster_mean))\n",
    "print(\"Standard Deviation: \" + str(nondisaster_std))"
   ]
  },
  {
   "cell_type": "code",
   "execution_count": 23,
   "id": "29cae237",
   "metadata": {},
   "outputs": [
    {
     "data": {
      "image/png": "[encoded data removed]",
      "text/plain": [
       "<Figure size 720x360 with 2 Axes>"
      ]
     },
     "metadata": {
      "needs_background": "light"
     },
     "output_type": "display_data"
    },
    {
     "name": "stdout",
     "output_type": "stream",
     "text": [
      "Disaster Tweets: \n",
      "Mean: 7.54356465912565\n",
      "Standard Deviation: 4.195437380328195\n",
      "\n",
      "Non-Disaster Tweets: \n",
      "Mean: 6.30907415937356\n",
      "Standard Deviation: 4.830297304730791\n"
     ]
    }
   ],
   "source": [
    "## punctuation count - pretty big difference\n",
    "fig, (ax1, ax2) = plt.subplots(1,2, figsize=(10,5))\n",
    "disaster_punct = tweets[tweets['target']==1]['text'].apply(lambda x: len([c for c in str(x) if c in string.punctuation]))\n",
    "disaster_mean, disaster_std = disaster_punct.mean(), disaster_punct.std()\n",
    "ax1.hist(disaster_punct,color='blue',bins=25)\n",
    "ax1.set_title('Disaster Tweet Punctuation Count')\n",
    "\n",
    "nondisaster_punct = tweets[tweets['target']==0]['text'].apply(lambda x: len([c for c in str(x) if c in string.punctuation]))\n",
    "nondisaster_mean, nondisaster_std = nondisaster_punct.mean(), nondisaster_punct.std()\n",
    "ax2.hist(nondisaster_punct,color='red',bins=25)\n",
    "ax2.set_title('Non-Disaster Tweet Punctuation Count')\n",
    "\n",
    "plt.show()\n",
    "print(\"Disaster Tweets: \")\n",
    "print(\"Mean: \" + str(disaster_mean))\n",
    "print(\"Standard Deviation: \" + str(disaster_std))\n",
    "print()\n",
    "print(\"Non-Disaster Tweets: \")\n",
    "print(\"Mean: \" + str(nondisaster_mean))\n",
    "print(\"Standard Deviation: \" + str(nondisaster_std))"
   ]
  },
  {
   "cell_type": "code",
   "execution_count": 24,
   "id": "d13f189c",
   "metadata": {},
   "outputs": [
    {
     "data": {
      "image/png": "[encoded data removed]",
      "text/plain": [
       "<Figure size 720x360 with 2 Axes>"
      ]
     },
     "metadata": {
      "needs_background": "light"
     },
     "output_type": "display_data"
    },
    {
     "name": "stdout",
     "output_type": "stream",
     "text": [
      "Disaster Tweets: \n",
      "Mean: 10.870681748700703\n",
      "Standard Deviation: 9.61430983653719\n",
      "\n",
      "Non-Disaster Tweets: \n",
      "Mean: 9.20935052970981\n",
      "Standard Deviation: 10.962635755858244\n"
     ]
    }
   ],
   "source": [
    "# Number of Capital Characters\n",
    "\n",
    "fig, (ax1, ax2) = plt.subplots(1,2, figsize=(10,5))\n",
    "disaster_cap = tweets[tweets['target']==1]['text'].apply(lambda x: len([c for c in str(x) if c.isupper()]))\n",
    "disaster_mean, disaster_std = disaster_cap.mean(), disaster_cap.std()\n",
    "ax1.hist(disaster_cap,color='blue',bins=25)\n",
    "ax1.set_title('Disaster Capital Letter Count')\n",
    "\n",
    "nondisaster_cap = tweets[tweets['target']==0]['text'].apply(lambda x: len([c for c in str(x) if c.isupper()]))\n",
    "nondisaster_mean, nondisaster_std = nondisaster_cap.mean(), nondisaster_cap.std()\n",
    "ax2.hist(nondisaster_cap,color='red',bins=25)\n",
    "ax2.set_title('Non-Disaster Capital Letter Count')\n",
    "\n",
    "plt.show()\n",
    "print(\"Disaster Tweets: \")\n",
    "print(\"Mean: \" + str(disaster_mean))\n",
    "print(\"Standard Deviation: \" + str(disaster_std))\n",
    "print()\n",
    "print(\"Non-Disaster Tweets: \")\n",
    "print(\"Mean: \" + str(nondisaster_mean))\n",
    "print(\"Standard Deviation: \" + str(nondisaster_std))"
   ]
  },
  {
   "cell_type": "code",
   "execution_count": 25,
   "id": "981bd861",
   "metadata": {},
   "outputs": [
    {
     "data": {
      "image/png": "[encoded data removed]",
      "text/plain": [
       "<Figure size 720x360 with 2 Axes>"
      ]
     },
     "metadata": {
      "needs_background": "light"
     },
     "output_type": "display_data"
    },
    {
     "name": "stdout",
     "output_type": "stream",
     "text": [
      "Disaster Tweets: \n",
      "Mean: 0.9012534393151941\n",
      "Standard Deviation: 1.8524390782158864\n",
      "\n",
      "Non-Disaster Tweets: \n",
      "Mean: 0.9585444495624136\n",
      "Standard Deviation: 2.1222995226820647\n"
     ]
    }
   ],
   "source": [
    "fig, (ax1, ax2) = plt.subplots(1,2, figsize=(10,5))\n",
    "\n",
    "disaster_capwords = tweets[tweets['target']==1]['text'].str.split().apply(lambda x: len([s for s in x if s.isupper()]))\n",
    "disaster_mean, disaster_std = disaster_capwords.mean(), disaster_capwords.std()\n",
    "ax1.hist(disaster_capwords,color='blue',bins=25)\n",
    "ax1.set_title('Disaster Capital Word Count')\n",
    "\n",
    "nondisaster_capwords = tweets[tweets['target']==0]['text'].str.split().apply(lambda x: len([s for s in x if s.isupper()]))\n",
    "nondisaster_mean, nondisaster_std = nondisaster_capwords.mean(), nondisaster_capwords.std()\n",
    "ax2.hist(nondisaster_capwords,color='red',bins=25)\n",
    "ax2.set_title('Non-Disaster Capital Word Count')\n",
    "\n",
    "plt.show()                                                                      \n",
    "print(\"Disaster Tweets: \")\n",
    "print(\"Mean: \" + str(disaster_mean))\n",
    "print(\"Standard Deviation: \" + str(disaster_std))\n",
    "print()\n",
    "print(\"Non-Disaster Tweets: \")\n",
    "print(\"Mean: \" + str(nondisaster_mean))\n",
    "print(\"Standard Deviation: \" + str(nondisaster_std))\n",
    "                                                                          "
   ]
  },
  {
   "cell_type": "code",
   "execution_count": 10,
   "id": "fd1e7a08",
   "metadata": {},
   "outputs": [
    {
     "data": {
      "image/png": "[encoded data removed]",
      "text/plain": [
       "<Figure size 720x360 with 2 Axes>"
      ]
     },
     "metadata": {
      "needs_background": "light"
     },
     "output_type": "display_data"
    },
    {
     "name": "stdout",
     "output_type": "stream",
     "text": [
      "Disaster Tweets: \n",
      "Mean: 0.5206358911647814\n",
      "Standard Deviation: 1.206805001280278\n",
      "\n",
      "Non-Disaster Tweets: \n",
      "Mean: 0.391524643021649\n",
      "Standard Deviation: 1.0084197607784438\n"
     ]
    }
   ],
   "source": [
    "# Number of Hashtags\n",
    "\n",
    "fig, (ax1, ax2) = plt.subplots(1,2, figsize=(10,5))\n",
    "\n",
    "disaster_hash = tweets[tweets['target']==1]['text'].apply(lambda x: len([c for c in str(x) if c == '#']))\n",
    "disaster_mean, disaster_std = disaster_hash.mean(), disaster_hash.std()\n",
    "ax1.hist(disaster_hash,color='blue',bins=13)\n",
    "ax1.set_title('Disaster Hashtag Count')\n",
    "\n",
    "nondisaster_hash = tweets[tweets['target']==0]['text'].apply(lambda x: len([c for c in str(x) if c == '#']))\n",
    "nondisaster_mean, nondisaster_std = nondisaster_hash.mean(), nondisaster_hash.std()\n",
    "ax2.hist(nondisaster_hash,color='red',bins=13)\n",
    "ax2.set_title('Non-Disaster Hashtag Count')\n",
    "\n",
    "plt.show()\n",
    "print(\"Disaster Tweets: \")\n",
    "print(\"Mean: \" + str(disaster_mean))\n",
    "print(\"Standard Deviation: \" + str(disaster_std))\n",
    "print()\n",
    "print(\"Non-Disaster Tweets: \")\n",
    "print(\"Mean: \" + str(nondisaster_mean))\n",
    "print(\"Standard Deviation: \" + str(nondisaster_std))"
   ]
  },
  {
   "cell_type": "code",
   "execution_count": 28,
   "id": "5318f77b",
   "metadata": {},
   "outputs": [
    {
     "data": {
      "image/png": "[encoded data removed]",
      "text/plain": [
       "<Figure size 720x360 with 2 Axes>"
      ]
     },
     "metadata": {
      "needs_background": "light"
     },
     "output_type": "display_data"
    },
    {
     "name": "stdout",
     "output_type": "stream",
     "text": [
      "Disaster Tweets: \n",
      "Mean: 1.3952919596453683\n",
      "Standard Deviation: 0.7468358322276965\n",
      "\n",
      "Non-Disaster Tweets: \n",
      "Mean: 1.598802395209581\n",
      "Standard Deviation: 0.8759913951151862\n"
     ]
    }
   ],
   "source": [
    "# Number of Sentences\n",
    "fig, (ax1, ax2) = plt.subplots(1,2, figsize=(10,5))\n",
    "\n",
    "disaster_sent = tweets[tweets['target']==1]['text'].apply(lambda x: len(nltk.sent_tokenize(x)))\n",
    "disaster_mean, disaster_std = disaster_sent.mean(), disaster_sent.std()\n",
    "ax1.hist(disaster_sent,color='blue',bins=10)\n",
    "ax1.set_title('Disaster Sentence Count')\n",
    "\n",
    "nondisaster_sent = tweets[tweets['target']==0]['text'].apply(lambda x: len(nltk.sent_tokenize(x)))\n",
    "nondisaster_mean, nondisaster_std = nondisaster_sent.mean(), nondisaster_sent.std()\n",
    "ax2.hist(nondisaster_sent,color='red',bins=10)\n",
    "ax2.set_title('Non-Disaster Sentence Count')\n",
    "plt.show()\n",
    "\n",
    "print(\"Disaster Tweets: \")\n",
    "print(\"Mean: \" + str(disaster_mean))\n",
    "print(\"Standard Deviation: \" + str(disaster_std))\n",
    "print()\n",
    "print(\"Non-Disaster Tweets: \")\n",
    "print(\"Mean: \" + str(nondisaster_mean))\n",
    "print(\"Standard Deviation: \" + str(nondisaster_std))"
   ]
  },
  {
   "cell_type": "code",
   "execution_count": 29,
   "id": "77f006c9",
   "metadata": {
    "scrolled": true
   },
   "outputs": [
    {
     "data": {
      "image/png": "[encoded data removed]",
      "text/plain": [
       "<Figure size 720x360 with 2 Axes>"
      ]
     },
     "metadata": {
      "needs_background": "light"
     },
     "output_type": "display_data"
    },
    {
     "name": "stdout",
     "output_type": "stream",
     "text": [
      "Disaster Tweets: \n",
      "Mean: 0.2766738000611434\n",
      "Standard Deviation: 0.6296958663362244\n",
      "\n",
      "Non-Disaster Tweets: \n",
      "Mean: 0.4269921695071396\n",
      "Standard Deviation: 0.7751550539668309\n"
     ]
    }
   ],
   "source": [
    "# Mention Count\n",
    "\n",
    "fig, (ax1, ax2) = plt.subplots(1,2, figsize=(10,5))\n",
    "\n",
    "disaster_ment = tweets[tweets['target']==1]['text'].apply(lambda x: len([c for c in str(x) if c == '@']))\n",
    "disaster_mean, disaster_std = disaster_ment.mean(), disaster_ment.std()\n",
    "ax1.hist(disaster_ment,color='blue',bins=7)\n",
    "ax1.set_title('Disaster Mention Count')\n",
    "\n",
    "nondisaster_ment = tweets[tweets['target']==0]['text'].apply(lambda x: len([c for c in str(x) if c == '@']))\n",
    "nondisaster_mean, nondisaster_std = nondisaster_ment.mean(), nondisaster_ment.std()\n",
    "ax2.hist(nondisaster_ment,color='red',bins=7)\n",
    "ax2.set_title('Non-Disaster Mention Count')\n",
    "\n",
    "plt.show()\n",
    "print(\"Disaster Tweets: \")\n",
    "print(\"Mean: \" + str(disaster_mean))\n",
    "print(\"Standard Deviation: \" + str(disaster_std))\n",
    "print()\n",
    "print(\"Non-Disaster Tweets: \")\n",
    "print(\"Mean: \" + str(nondisaster_mean))\n",
    "print(\"Standard Deviation: \" + str(nondisaster_std))"
   ]
  },
  {
   "cell_type": "code",
   "execution_count": 54,
   "id": "d5022b38",
   "metadata": {},
   "outputs": [
    {
     "data": {
      "image/png": "[encoded data removed]",
      "text/plain": [
       "<Figure size 720x360 with 2 Axes>"
      ]
     },
     "metadata": {
      "needs_background": "light"
     },
     "output_type": "display_data"
    },
    {
     "name": "stdout",
     "output_type": "stream",
     "text": [
      "Disaster Tweets: \n",
      "Mean: 3.4481809844084377\n",
      "Standard Deviation: 2.8872262530580803\n",
      "\n",
      "Non-Disaster Tweets: \n",
      "Mean: 3.9758175955780746\n",
      "Standard Deviation: 3.393981584982746\n"
     ]
    }
   ],
   "source": [
    "# Number of stopwords\n",
    "\n",
    "fig, (ax1, ax2) = plt.subplots(1,2, figsize=(10,5))\n",
    "\n",
    "disaster_stop = tweets[tweets['target']==1]['text'].str.split().apply(lambda x: len([s for s in x if s in stop]))\n",
    "disaster_mean, disaster_std = disaster_stop.mean(), disaster_stop.std()\n",
    "ax1.hist(disaster_stop,color='blue',bins=18)\n",
    "ax1.set_title('Disaster Stop Word Count')\n",
    "\n",
    "nondisaster_stop = tweets[tweets['target']==0]['text'].str.split().apply(lambda x: len([s for s in x if s in stop]))\n",
    "nondisaster_mean, nondisaster_std = nondisaster_stop.mean(), nondisaster_stop.std()\n",
    "ax2.hist(nondisaster_stop,color='red',bins=18)\n",
    "ax2.set_title('Non-Disaster Stop Word Count')\n",
    "\n",
    "plt.show()                                                                      \n",
    "print(\"Disaster Tweets: \")\n",
    "print(\"Mean: \" + str(disaster_mean))\n",
    "print(\"Standard Deviation: \" + str(disaster_std))\n",
    "print()\n",
    "print(\"Non-Disaster Tweets: \")\n",
    "print(\"Mean: \" + str(nondisaster_mean))\n",
    "print(\"Standard Deviation: \" + str(nondisaster_std))\n",
    "                                                       "
   ]
  },
  {
   "cell_type": "code",
   "execution_count": 31,
   "id": "af0dfe40",
   "metadata": {},
   "outputs": [
    {
     "data": {
      "image/png": "[encoded data removed]",
      "text/plain": [
       "<Figure size 720x360 with 2 Axes>"
      ]
     },
     "metadata": {
      "needs_background": "light"
     },
     "output_type": "display_data"
    },
    {
     "name": "stdout",
     "output_type": "stream",
     "text": [
      "Disaster Tweets: \n",
      "Mean: 0.9735052493239087\n",
      "Standard Deviation: 0.0495181086567404\n",
      "\n",
      "Non-Disaster Tweets: \n",
      "Mean: 0.968347436030965\n",
      "Standard Deviation: 0.0563260458296937\n"
     ]
    }
   ],
   "source": [
    "# Ratio of Unique Words to total number of words\n",
    "fig, (ax1, ax2) = plt.subplots(1,2, figsize=(10,5))\n",
    "\n",
    "disaster_uniquerate = disaster_unique / disaster_words\n",
    "disaster_mean, disaster_std = disaster_uniquerate.mean(), disaster_uniquerate.std()\n",
    "ax1.hist(disaster_uniquerate,color='blue',bins=20)\n",
    "ax1.set_title('Disaster Unique Words / # Words')\n",
    "\n",
    "nondisaster_uniquerate = nondisaster_unique / nondisaster_words\n",
    "nondisaster_mean, nondisaster_std = nondisaster_uniquerate.mean(), nondisaster_uniquerate.std()\n",
    "ax2.hist(nondisaster_uniquerate,color='red',bins=20)\n",
    "ax2.set_title('Non-Disaster Unique Words / # Words')\n",
    "\n",
    "plt.show()                                                                      \n",
    "print(\"Disaster Tweets: \")\n",
    "print(\"Mean: \" + str(disaster_mean))\n",
    "print(\"Standard Deviation: \" + str(disaster_std))\n",
    "print()\n",
    "print(\"Non-Disaster Tweets: \")\n",
    "print(\"Mean: \" + str(nondisaster_mean))\n",
    "print(\"Standard Deviation: \" + str(nondisaster_std))"
   ]
  },
  {
   "cell_type": "code",
   "execution_count": 9,
   "id": "00f69ed9",
   "metadata": {},
   "outputs": [
    {
     "name": "stdout",
     "output_type": "stream",
     "text": [
      "                                                text\n",
      "0  Our Deeds are the Reason of this #earthquake M...\n",
      "1             Forest fire near La Ronge Sask. Canada\n",
      "2  All residents asked to 'shelter in place' are ...\n",
      "\n",
      "0    1\n",
      "1    1\n",
      "2    1\n",
      "Name: target, dtype: int64\n"
     ]
    }
   ],
   "source": [
    "# Get rid of everything except the text\n",
    "tweets = pd.read_csv('Data/train.csv')\n",
    "labels = tweets['target']\n",
    "tweets = tweets.drop(labels=[\"id\", \"keyword\", \"location\", \"target\"], axis=1)\n",
    "print(tweets.head(3))\n",
    "print()\n",
    "print(labels.head(3))\n"
   ]
  },
  {
   "cell_type": "code",
   "execution_count": 10,
   "id": "85ccec97",
   "metadata": {},
   "outputs": [
    {
     "name": "stdout",
     "output_type": "stream",
     "text": [
      "   tweet length  num words  avg word length  unique count  punct count  \\\n",
      "0            69         13         4.384615            13            1   \n",
      "1            38          7         4.571429             7            1   \n",
      "2           133         22         5.090909            20            3   \n",
      "\n",
      "   cap letter count  cap word count  hashtag count  sentence count  \\\n",
      "0                10               1              1               1   \n",
      "1                 5               0              0               2   \n",
      "2                 2               0              0               2   \n",
      "\n",
      "   mention count  stop word count  unique ratio  \n",
      "0              0                5      1.000000  \n",
      "1              0                0      1.000000  \n",
      "2              0                9      0.909091  \n"
     ]
    }
   ],
   "source": [
    "# Let's use all these features to create a baseline classifier\n",
    "\n",
    "tweets['tweet length'] = tweets['text'].str.len()\n",
    "tweets['num words'] = tweets['text'].str.split().map(lambda x: len(x))\n",
    "tweets['avg word length'] = tweets['text'].str.split().apply(lambda x : np.mean([len(i) for i in x]))\n",
    "tweets['unique count'] = tweets['text'].str.split().map(lambda x: len(set(x)))\n",
    "tweets['punct count'] = tweets['text'].apply(lambda x: len([c for c in str(x) if c in string.punctuation]))\n",
    "tweets['cap letter count'] = tweets['text'].apply(lambda x: len([c for c in str(x) if c.isupper()]))\n",
    "tweets['cap word count'] = tweets['text'].str.split().apply(lambda x: len([s for s in x if s.isupper()]))\n",
    "tweets['hashtag count'] = tweets['text'].apply(lambda x: len([c for c in str(x) if c == '#']))\n",
    "tweets['sentence count'] = tweets['text'].apply(lambda x: len(nltk.sent_tokenize(x)))\n",
    "tweets['mention count'] = tweets['text'].apply(lambda x: len([c for c in str(x) if c == '@']))\n",
    "tweets['stop word count'] = tweets['text'].str.split().apply(lambda x: len([s for s in x if s in stop]))\n",
    "tweets['unique ratio'] = tweets['unique count'] / tweets['num words']\n",
    "                    \n",
    "tweets = tweets.drop(labels=['text'], axis=1)\n",
    "print(tweets.head(3))\n",
    "\n",
    "\n"
   ]
  },
  {
   "cell_type": "code",
   "execution_count": 11,
   "id": "332b45a5",
   "metadata": {},
   "outputs": [
    {
     "name": "stdout",
     "output_type": "stream",
     "text": [
      "Accuracy on testing set:  0.6585686145764937\n"
     ]
    }
   ],
   "source": [
    "from sklearn.linear_model import SGDClassifier\n",
    "from sklearn.model_selection import train_test_split\n",
    "from sklearn.metrics import accuracy_score\n",
    "\n",
    "X = tweets.to_numpy()\n",
    "y = labels.to_numpy()\n",
    "\n",
    "X_train, X_test, y_train, y_test = train_test_split(X, y, test_size=0.2, random_state=42)\n",
    " \n",
    "\n",
    "logisticRegression = SGDClassifier(loss='log', penalty='l2', alpha=0.0001, max_iter=2000, shuffle=True, verbose=0, random_state=42)\n",
    "logisticRegression.fit(X_train, y_train)\n",
    "y_pred = logisticRegression.predict(X_test)\n",
    "accuracy = accuracy_score(y_pred, y_test)\n",
    "print(\"Accuracy on testing set: \", accuracy)\n",
    "\n"
   ]
  },
  {
   "cell_type": "markdown",
   "id": "fc75f862",
   "metadata": {},
   "source": [
    "## Part 3: Using more Complicated Features"
   ]
  },
  {
   "cell_type": "code",
   "execution_count": 42,
   "id": "3b074b28",
   "metadata": {},
   "outputs": [],
   "source": [
    "from sklearn.feature_extraction.text import CountVectorizer, TfidfVectorizer\n",
    "\n",
    "tweets = pd.read_csv('Data/train.csv')\n",
    "\n",
    "\n",
    "def create_corpus(target):\n",
    "    \n",
    "    corpus=[]\n",
    "    for x in tweets[tweets['target'] == target]['text'].str.split(): \n",
    "        for i in x:\n",
    "            corpus.append(i)\n",
    "    return corpus # returns a list of all words that are classified as disaster or non-disaster\n",
    "    \n",
    "\n",
    "corpus = create_corpus(0)\n",
    "\n",
    "def create_wordbank(corpus): # input - corpus, output - set of words tupled with # of occurences\n",
    "    wordbank = {}\n",
    "    for word in corpus:\n",
    "        if word not in stop: # stop is the nltk ignorewords pool\n",
    "            if word in wordbank:\n",
    "                wordbank[word] += 1\n",
    "            else:\n",
    "                wordbank[word] = 1\n",
    "    return wordbank\n",
    "\n",
    "def generate_scores(data, wordbank):\n",
    "    scores = np.zeros(data.shape[0])\n",
    "    for i,tweet in enumerate(data):\n",
    "        words = nltk.word_tokenize(tweet)\n",
    "        score = 0\n",
    "        num_words = len(words)\n",
    "        for word in words:\n",
    "            if word in wordbank:\n",
    "                score += wordbank[word]\n",
    "        scores[i] = score / num_words\n",
    "    return scores\n",
    "            \n",
    "        "
   ]
  },
  {
   "cell_type": "code",
   "execution_count": 71,
   "id": "8c2efc5c",
   "metadata": {},
   "outputs": [
    {
     "ename": "KeyError",
     "evalue": "'target'",
     "output_type": "error",
     "traceback": [
      "\u001b[0;31m---------------------------------------------------------------------------\u001b[0m",
      "\u001b[0;31mKeyError\u001b[0m                                  Traceback (most recent call last)",
      "\u001b[0;32m~/opt/anaconda3/lib/python3.9/site-packages/pandas/core/indexes/base.py\u001b[0m in \u001b[0;36mget_loc\u001b[0;34m(self, key, method, tolerance)\u001b[0m\n\u001b[1;32m   3360\u001b[0m             \u001b[0;32mtry\u001b[0m\u001b[0;34m:\u001b[0m\u001b[0;34m\u001b[0m\u001b[0;34m\u001b[0m\u001b[0m\n\u001b[0;32m-> 3361\u001b[0;31m                 \u001b[0;32mreturn\u001b[0m \u001b[0mself\u001b[0m\u001b[0;34m.\u001b[0m\u001b[0m_engine\u001b[0m\u001b[0;34m.\u001b[0m\u001b[0mget_loc\u001b[0m\u001b[0;34m(\u001b[0m\u001b[0mcasted_key\u001b[0m\u001b[0;34m)\u001b[0m\u001b[0;34m\u001b[0m\u001b[0;34m\u001b[0m\u001b[0m\n\u001b[0m\u001b[1;32m   3362\u001b[0m             \u001b[0;32mexcept\u001b[0m \u001b[0mKeyError\u001b[0m \u001b[0;32mas\u001b[0m \u001b[0merr\u001b[0m\u001b[0;34m:\u001b[0m\u001b[0;34m\u001b[0m\u001b[0;34m\u001b[0m\u001b[0m\n",
      "\u001b[0;32m~/opt/anaconda3/lib/python3.9/site-packages/pandas/_libs/index.pyx\u001b[0m in \u001b[0;36mpandas._libs.index.IndexEngine.get_loc\u001b[0;34m()\u001b[0m\n",
      "\u001b[0;32m~/opt/anaconda3/lib/python3.9/site-packages/pandas/_libs/index.pyx\u001b[0m in \u001b[0;36mpandas._libs.index.IndexEngine.get_loc\u001b[0;34m()\u001b[0m\n",
      "\u001b[0;32mpandas/_libs/hashtable_class_helper.pxi\u001b[0m in \u001b[0;36mpandas._libs.hashtable.PyObjectHashTable.get_item\u001b[0;34m()\u001b[0m\n",
      "\u001b[0;32mpandas/_libs/hashtable_class_helper.pxi\u001b[0m in \u001b[0;36mpandas._libs.hashtable.PyObjectHashTable.get_item\u001b[0;34m()\u001b[0m\n",
      "\u001b[0;31mKeyError\u001b[0m: 'target'",
      "\nThe above exception was the direct cause of the following exception:\n",
      "\u001b[0;31mKeyError\u001b[0m                                  Traceback (most recent call last)",
      "\u001b[0;32m/var/folders/bh/bkzmld751m5fdgn8m3_kzfmc0000gn/T/ipykernel_60020/201450529.py\u001b[0m in \u001b[0;36m<module>\u001b[0;34m\u001b[0m\n\u001b[0;32m----> 1\u001b[0;31m \u001b[0mcorpus\u001b[0m \u001b[0;34m=\u001b[0m \u001b[0mcreate_corpus\u001b[0m\u001b[0;34m(\u001b[0m\u001b[0;36m1\u001b[0m\u001b[0;34m)\u001b[0m\u001b[0;34m\u001b[0m\u001b[0;34m\u001b[0m\u001b[0m\n\u001b[0m\u001b[1;32m      2\u001b[0m \u001b[0mwordbank\u001b[0m \u001b[0;34m=\u001b[0m \u001b[0mcreate_wordbank\u001b[0m\u001b[0;34m(\u001b[0m\u001b[0mcorpus\u001b[0m\u001b[0;34m)\u001b[0m\u001b[0;34m\u001b[0m\u001b[0;34m\u001b[0m\u001b[0m\n\u001b[1;32m      3\u001b[0m \u001b[0;34m\u001b[0m\u001b[0m\n\u001b[1;32m      4\u001b[0m \u001b[0;34m\u001b[0m\u001b[0m\n\u001b[1;32m      5\u001b[0m \u001b[0mfig\u001b[0m\u001b[0;34m,\u001b[0m \u001b[0;34m(\u001b[0m\u001b[0max1\u001b[0m\u001b[0;34m,\u001b[0m \u001b[0max2\u001b[0m\u001b[0;34m)\u001b[0m \u001b[0;34m=\u001b[0m \u001b[0mplt\u001b[0m\u001b[0;34m.\u001b[0m\u001b[0msubplots\u001b[0m\u001b[0;34m(\u001b[0m\u001b[0;36m1\u001b[0m\u001b[0;34m,\u001b[0m\u001b[0;36m2\u001b[0m\u001b[0;34m,\u001b[0m \u001b[0mfigsize\u001b[0m\u001b[0;34m=\u001b[0m\u001b[0;34m(\u001b[0m\u001b[0;36m10\u001b[0m\u001b[0;34m,\u001b[0m\u001b[0;36m5\u001b[0m\u001b[0;34m)\u001b[0m\u001b[0;34m)\u001b[0m\u001b[0;34m\u001b[0m\u001b[0;34m\u001b[0m\u001b[0m\n",
      "\u001b[0;32m/var/folders/bh/bkzmld751m5fdgn8m3_kzfmc0000gn/T/ipykernel_60020/4262904012.py\u001b[0m in \u001b[0;36mcreate_corpus\u001b[0;34m(target)\u001b[0m\n\u001b[1;32m      7\u001b[0m \u001b[0;34m\u001b[0m\u001b[0m\n\u001b[1;32m      8\u001b[0m     \u001b[0mcorpus\u001b[0m\u001b[0;34m=\u001b[0m\u001b[0;34m[\u001b[0m\u001b[0;34m]\u001b[0m\u001b[0;34m\u001b[0m\u001b[0;34m\u001b[0m\u001b[0m\n\u001b[0;32m----> 9\u001b[0;31m     \u001b[0;32mfor\u001b[0m \u001b[0mx\u001b[0m \u001b[0;32min\u001b[0m \u001b[0mtweets\u001b[0m\u001b[0;34m[\u001b[0m\u001b[0mtweets\u001b[0m\u001b[0;34m[\u001b[0m\u001b[0;34m'target'\u001b[0m\u001b[0;34m]\u001b[0m \u001b[0;34m==\u001b[0m \u001b[0mtarget\u001b[0m\u001b[0;34m]\u001b[0m\u001b[0;34m[\u001b[0m\u001b[0;34m'text'\u001b[0m\u001b[0;34m]\u001b[0m\u001b[0;34m.\u001b[0m\u001b[0mstr\u001b[0m\u001b[0;34m.\u001b[0m\u001b[0msplit\u001b[0m\u001b[0;34m(\u001b[0m\u001b[0;34m)\u001b[0m\u001b[0;34m:\u001b[0m\u001b[0;34m\u001b[0m\u001b[0;34m\u001b[0m\u001b[0m\n\u001b[0m\u001b[1;32m     10\u001b[0m         \u001b[0;32mfor\u001b[0m \u001b[0mi\u001b[0m \u001b[0;32min\u001b[0m \u001b[0mx\u001b[0m\u001b[0;34m:\u001b[0m\u001b[0;34m\u001b[0m\u001b[0;34m\u001b[0m\u001b[0m\n\u001b[1;32m     11\u001b[0m             \u001b[0mcorpus\u001b[0m\u001b[0;34m.\u001b[0m\u001b[0mappend\u001b[0m\u001b[0;34m(\u001b[0m\u001b[0mi\u001b[0m\u001b[0;34m)\u001b[0m\u001b[0;34m\u001b[0m\u001b[0;34m\u001b[0m\u001b[0m\n",
      "\u001b[0;32m~/opt/anaconda3/lib/python3.9/site-packages/pandas/core/frame.py\u001b[0m in \u001b[0;36m__getitem__\u001b[0;34m(self, key)\u001b[0m\n\u001b[1;32m   3456\u001b[0m             \u001b[0;32mif\u001b[0m \u001b[0mself\u001b[0m\u001b[0;34m.\u001b[0m\u001b[0mcolumns\u001b[0m\u001b[0;34m.\u001b[0m\u001b[0mnlevels\u001b[0m \u001b[0;34m>\u001b[0m \u001b[0;36m1\u001b[0m\u001b[0;34m:\u001b[0m\u001b[0;34m\u001b[0m\u001b[0;34m\u001b[0m\u001b[0m\n\u001b[1;32m   3457\u001b[0m                 \u001b[0;32mreturn\u001b[0m \u001b[0mself\u001b[0m\u001b[0;34m.\u001b[0m\u001b[0m_getitem_multilevel\u001b[0m\u001b[0;34m(\u001b[0m\u001b[0mkey\u001b[0m\u001b[0;34m)\u001b[0m\u001b[0;34m\u001b[0m\u001b[0;34m\u001b[0m\u001b[0m\n\u001b[0;32m-> 3458\u001b[0;31m             \u001b[0mindexer\u001b[0m \u001b[0;34m=\u001b[0m \u001b[0mself\u001b[0m\u001b[0;34m.\u001b[0m\u001b[0mcolumns\u001b[0m\u001b[0;34m.\u001b[0m\u001b[0mget_loc\u001b[0m\u001b[0;34m(\u001b[0m\u001b[0mkey\u001b[0m\u001b[0;34m)\u001b[0m\u001b[0;34m\u001b[0m\u001b[0;34m\u001b[0m\u001b[0m\n\u001b[0m\u001b[1;32m   3459\u001b[0m             \u001b[0;32mif\u001b[0m \u001b[0mis_integer\u001b[0m\u001b[0;34m(\u001b[0m\u001b[0mindexer\u001b[0m\u001b[0;34m)\u001b[0m\u001b[0;34m:\u001b[0m\u001b[0;34m\u001b[0m\u001b[0;34m\u001b[0m\u001b[0m\n\u001b[1;32m   3460\u001b[0m                 \u001b[0mindexer\u001b[0m \u001b[0;34m=\u001b[0m \u001b[0;34m[\u001b[0m\u001b[0mindexer\u001b[0m\u001b[0;34m]\u001b[0m\u001b[0;34m\u001b[0m\u001b[0;34m\u001b[0m\u001b[0m\n",
      "\u001b[0;32m~/opt/anaconda3/lib/python3.9/site-packages/pandas/core/indexes/base.py\u001b[0m in \u001b[0;36mget_loc\u001b[0;34m(self, key, method, tolerance)\u001b[0m\n\u001b[1;32m   3361\u001b[0m                 \u001b[0;32mreturn\u001b[0m \u001b[0mself\u001b[0m\u001b[0;34m.\u001b[0m\u001b[0m_engine\u001b[0m\u001b[0;34m.\u001b[0m\u001b[0mget_loc\u001b[0m\u001b[0;34m(\u001b[0m\u001b[0mcasted_key\u001b[0m\u001b[0;34m)\u001b[0m\u001b[0;34m\u001b[0m\u001b[0;34m\u001b[0m\u001b[0m\n\u001b[1;32m   3362\u001b[0m             \u001b[0;32mexcept\u001b[0m \u001b[0mKeyError\u001b[0m \u001b[0;32mas\u001b[0m \u001b[0merr\u001b[0m\u001b[0;34m:\u001b[0m\u001b[0;34m\u001b[0m\u001b[0;34m\u001b[0m\u001b[0m\n\u001b[0;32m-> 3363\u001b[0;31m                 \u001b[0;32mraise\u001b[0m \u001b[0mKeyError\u001b[0m\u001b[0;34m(\u001b[0m\u001b[0mkey\u001b[0m\u001b[0;34m)\u001b[0m \u001b[0;32mfrom\u001b[0m \u001b[0merr\u001b[0m\u001b[0;34m\u001b[0m\u001b[0;34m\u001b[0m\u001b[0m\n\u001b[0m\u001b[1;32m   3364\u001b[0m \u001b[0;34m\u001b[0m\u001b[0m\n\u001b[1;32m   3365\u001b[0m         \u001b[0;32mif\u001b[0m \u001b[0mis_scalar\u001b[0m\u001b[0;34m(\u001b[0m\u001b[0mkey\u001b[0m\u001b[0;34m)\u001b[0m \u001b[0;32mand\u001b[0m \u001b[0misna\u001b[0m\u001b[0;34m(\u001b[0m\u001b[0mkey\u001b[0m\u001b[0;34m)\u001b[0m \u001b[0;32mand\u001b[0m \u001b[0;32mnot\u001b[0m \u001b[0mself\u001b[0m\u001b[0;34m.\u001b[0m\u001b[0mhasnans\u001b[0m\u001b[0;34m:\u001b[0m\u001b[0;34m\u001b[0m\u001b[0;34m\u001b[0m\u001b[0m\n",
      "\u001b[0;31mKeyError\u001b[0m: 'target'"
     ]
    }
   ],
   "source": [
    "corpus = create_corpus(1)\n",
    "wordbank = create_wordbank(corpus)\n",
    "\n",
    "\n",
    "fig, (ax1, ax2) = plt.subplots(1,2, figsize=(10,5))\n",
    "\n",
    "disaster_data = tweets[tweets['target']==1]['text'].to_numpy()\n",
    "nondisaster_data = tweets[tweets['target']==0]['text'].to_numpy()\n",
    "\n",
    "disaster_scores = generate_scores(disaster_data, wordbank)\n",
    "disaster_mean, disaster_std = np.mean(disaster_scores), np.std(disaster_scores)\n",
    "\n",
    "nondisaster_scores = generate_scores(nondisaster_data, wordbank)\n",
    "nondisaster_mean, nondisaster_std = np.mean(nondisaster_scores), np.std(nondisaster_scores)\n",
    "\n",
    "\n",
    "ax1.hist(disaster_scores,color='blue',bins=50)\n",
    "ax1.set_title('Disaster Tweet Score')\n",
    "\n",
    "ax2.hist(nondisaster_scores,color='red',bins=50)\n",
    "ax2.set_title('Non-Disaster Tweet Score')\n",
    "\n",
    "plt.show()\n",
    "\n",
    "print(\"Disaster Tweets: \")\n",
    "print(\"Mean: \" + str(disaster_mean))\n",
    "print(\"Standard Deviation: \" + str(disaster_std))\n",
    "print()\n",
    "print(\"Non-Disaster Tweets: \")\n",
    "print(\"Mean: \" + str(nondisaster_mean))\n",
    "print(\"Standard Deviation: \" + str(nondisaster_std))"
   ]
  },
  {
   "cell_type": "code",
   "execution_count": 46,
   "id": "ac239cf8",
   "metadata": {},
   "outputs": [
    {
     "data": {
      "image/png": "[encoded data removed]",
      "text/plain": [
       "<Figure size 720x360 with 2 Axes>"
      ]
     },
     "metadata": {
      "needs_background": "light"
     },
     "output_type": "display_data"
    },
    {
     "name": "stdout",
     "output_type": "stream",
     "text": [
      "Disaster Tweets: \n",
      "Mean: 16.38982883258052\n",
      "Standard Deviation: 19.8073839907354\n",
      "\n",
      "Non-Disaster Tweets: \n",
      "Mean: 28.11610769185243\n",
      "Standard Deviation: 34.45508970246113\n"
     ]
    }
   ],
   "source": [
    "corpus = create_corpus(0)\n",
    "wordbank = create_wordbank(corpus)\n",
    "\n",
    "fig, (ax1, ax2) = plt.subplots(1,2, figsize=(10,5))\n",
    "\n",
    "disaster_data = tweets[tweets['target']==1]['text'].to_numpy()\n",
    "nondisaster_data = tweets[tweets['target']==0]['text'].to_numpy()\n",
    "\n",
    "disaster_scores_ = generate_scores(disaster_data, wordbank)\n",
    "disaster_mean, disaster_std = np.mean(disaster_scores), np.std(disaster_scores)\n",
    "\n",
    "nondisaster_scores_ = generate_scores(nondisaster_data, wordbank)\n",
    "nondisaster_mean, nondisaster_std = np.mean(nondisaster_scores), np.std(nondisaster_scores)\n",
    "\n",
    "\n",
    "ax1.hist(disaster_scores,color='blue',bins=50)\n",
    "ax1.set_title('Disaster Tweet Score')\n",
    "\n",
    "ax2.hist(nondisaster_scores,color='red',bins=50)\n",
    "ax2.set_title('Non-Disaster Tweet Score')\n",
    "\n",
    "plt.show()\n",
    "\n",
    "print(\"Disaster Tweets: \")\n",
    "print(\"Mean: \" + str(disaster_mean))\n",
    "print(\"Standard Deviation: \" + str(disaster_std))\n",
    "print()\n",
    "print(\"Non-Disaster Tweets: \")\n",
    "print(\"Mean: \" + str(nondisaster_mean))\n",
    "print(\"Standard Deviation: \" + str(nondisaster_std))"
   ]
  },
  {
   "cell_type": "code",
   "execution_count": 48,
   "id": "0b33923c",
   "metadata": {},
   "outputs": [
    {
     "name": "stdout",
     "output_type": "stream",
     "text": [
      "   tweet length  num words  avg word length  unique count  punct count  \\\n",
      "0            69         13         4.384615            13            1   \n",
      "1            38          7         4.571429             7            1   \n",
      "2           133         22         5.090909            20            3   \n",
      "\n",
      "   cap letter count  cap word count  hashtag count  sentence count  \\\n",
      "0                10               1              1               1   \n",
      "1                 5               0              0               2   \n",
      "2                 2               0              0               2   \n",
      "\n",
      "   mention count  stop word count  unique ratio  disaster scores  \\\n",
      "0              0                5      1.000000         4.214286   \n",
      "1              0                0      1.000000        25.000000   \n",
      "2              0                9      0.909091         5.791667   \n",
      "\n",
      "   nondisaster scores  \n",
      "0            4.714286  \n",
      "1            7.750000  \n",
      "2            5.000000  \n"
     ]
    }
   ],
   "source": [
    "tweets = pd.read_csv('Data/train.csv')\n",
    "labels = tweets['target']\n",
    "\n",
    "corpus = create_corpus(0)\n",
    "wordbank = create_wordbank(corpus)\n",
    "nondisaster_scores = generate_scores(tweets['text'].to_numpy(), wordbank)\n",
    "\n",
    "corpus = create_corpus(1)\n",
    "wordbank = create_wordbank(corpus)\n",
    "disaster_scores = generate_scores(tweets['text'].to_numpy(), wordbank)\n",
    "\n",
    "tweets = tweets.drop(labels=[\"id\", \"keyword\", \"location\", \"target\"], axis=1)\n",
    "tweets['tweet length'] = tweets['text'].str.len()\n",
    "tweets['num words'] = tweets['text'].str.split().map(lambda x: len(x))\n",
    "tweets['avg word length'] = tweets['text'].str.split().apply(lambda x : np.mean([len(i) for i in x]))\n",
    "tweets['unique count'] = tweets['text'].str.split().map(lambda x: len(set(x)))\n",
    "tweets['punct count'] = tweets['text'].apply(lambda x: len([c for c in str(x) if c in string.punctuation]))\n",
    "tweets['cap letter count'] = tweets['text'].apply(lambda x: len([c for c in str(x) if c.isupper()]))\n",
    "tweets['cap word count'] = tweets['text'].str.split().apply(lambda x: len([s for s in x if s.isupper()]))\n",
    "tweets['hashtag count'] = tweets['text'].apply(lambda x: len([c for c in str(x) if c == '#']))\n",
    "tweets['sentence count'] = tweets['text'].apply(lambda x: len(nltk.sent_tokenize(x)))\n",
    "tweets['mention count'] = tweets['text'].apply(lambda x: len([c for c in str(x) if c == '@']))\n",
    "tweets['stop word count'] = tweets['text'].str.split().apply(lambda x: len([s for s in x if s in stop]))\n",
    "tweets['unique ratio'] = tweets['unique count'] / tweets['num words']\n",
    "tweets['disaster scores'] = disaster_scores\n",
    "tweets['nondisaster scores'] = nondisaster_scores\n",
    "tweets = tweets.drop(labels=['text'], axis=1)\n",
    "\n",
    "print(tweets.head(3))"
   ]
  },
  {
   "cell_type": "code",
   "execution_count": 73,
   "id": "6e6ec1a4",
   "metadata": {},
   "outputs": [
    {
     "data": {
      "image/png": "[encoded data removed]",
      "text/plain": [
       "<Figure size 432x288 with 1 Axes>"
      ]
     },
     "metadata": {
      "needs_background": "light"
     },
     "output_type": "display_data"
    },
    {
     "name": "stdout",
     "output_type": "stream",
     "text": [
      "Best Accuracy: 0.7445830597504924\n",
      "Best Alpha: 1.0909136363636365\n"
     ]
    }
   ],
   "source": [
    "X = tweets.to_numpy()\n",
    "y = labels.to_numpy()\n",
    "\n",
    "X_train, X_test, y_train, y_test = train_test_split(X, y, test_size=0.2, random_state=42)\n",
    "\n",
    "scores = []\n",
    "alphas = np.linspace(0.00001, 2, 100)\n",
    "\n",
    "\n",
    "for alpha in alphas:\n",
    "    \n",
    "    logisticRegression = SGDClassifier(loss='log', penalty='l2', alpha=alpha, max_iter=1000, shuffle=True, verbose=0, random_state=42)\n",
    "    logisticRegression.fit(X_train, y_train)\n",
    "    y_pred = logisticRegression.predict(X_test)\n",
    "    accuracy = accuracy_score(y_pred, y_test)\n",
    "    scores.append(accuracy)\n",
    "\n",
    "plt.plot(alphas, scores)\n",
    "plt.title(\"Alpha Values and Accuracy Score Using SGD Logistic Regression\")\n",
    "plt.show()\n",
    "print(\"Best Accuracy: \" + str(max(scores)))\n",
    "print(\"Best Alpha: \" + str(alphas[scores.index(max(scores))]))\n"
   ]
  },
  {
   "cell_type": "code",
   "execution_count": null,
   "id": "76ac26e8",
   "metadata": {},
   "outputs": [],
   "source": []
  }
 ],
 "metadata": {
  "kernelspec": {
   "display_name": "Python 3 (ipykernel)",
   "language": "python",
   "name": "python3"
  },
  "language_info": {
   "codemirror_mode": {
    "name": "ipython",
    "version": 3
   },
   "file_extension": ".py",
   "mimetype": "text/x-python",
   "name": "python",
   "nbconvert_exporter": "python",
   "pygments_lexer": "ipython3",
   "version": "3.9.7"
  }
 },
 "nbformat": 4,
 "nbformat_minor": 5
}
